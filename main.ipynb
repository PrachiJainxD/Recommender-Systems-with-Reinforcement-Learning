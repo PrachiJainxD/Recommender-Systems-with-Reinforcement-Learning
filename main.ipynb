{
 "cells": [
  {
   "cell_type": "code",
   "execution_count": 1,
   "id": "7532ab77-0a4b-4916-88b0-f593bab7e795",
   "metadata": {},
   "outputs": [],
   "source": [
    "#Imports\n",
    "from mixture_model import MixtureModel\n",
    "from mdp import MDP\n",
    "from tabulate import tabulate\n"
   ]
  },
  {
   "cell_type": "code",
   "execution_count": 2,
   "id": "832b7d71-962d-4f8a-b92d-a249211258e0",
   "metadata": {},
   "outputs": [],
   "source": [
    "#Constants\n",
    "PATH='dataset'\n",
    "MIXTURE_MODEL_PATH='mixture-models'\n",
    "HEADERS = ['Rank', 'Game', 'Score']"
   ]
  },
  {
   "cell_type": "code",
   "execution_count": 3,
   "id": "dc0fff3c-2f3d-46ff-a555-33c059047dad",
   "metadata": {},
   "outputs": [],
   "source": [
    "#Helper\n",
    "def evaluate_model(user_id, model_load_path, k):\n",
    "    user_id = str(user_id)\n",
    "    mm = MDP(path=PATH)\n",
    "    mm.load(model_load_path+'/mdp-model_k='+str(k)+'.pkl')\n",
    "    r_list = mm.recommend(user_id) \n",
    "    print(tabulate([[ind+1, r[0], r[1]] for ind, r in enumerate(r_list)], HEADERS, \"psql\"))"
   ]
  },
  {
   "cell_type": "markdown",
   "id": "89868740-7089-4554-ae84-54349a5cc97c",
   "metadata": {},
   "source": [
    "## Monte Carlo Mixture Models with Policy Iteration ##"
   ]
  },
  {
   "cell_type": "code",
   "execution_count": 4,
   "id": "d788bbd3-488c-4be6-b957-63074f67b836",
   "metadata": {},
   "outputs": [
    {
     "name": "stdout",
     "output_type": "stream",
     "text": [
      "('4013',)\n",
      "(None, '4013')\n",
      "(None, None, '4013')\n",
      "+--------+---------------------------------+---------+\n",
      "|   Rank | Game                            |   Score |\n",
      "|--------+---------------------------------+---------|\n",
      "|      1 | Counter-Strike Global Offensive | 1.9979  |\n",
      "|      2 | Team Fortress 2                 | 1.99666 |\n",
      "|      3 | Heroes & Generals               | 1.99583 |\n",
      "|      4 | Warframe                        | 1.99569 |\n",
      "|      5 | Robocraft                       | 1.99564 |\n",
      "|      6 | Left 4 Dead 2                   | 1.99563 |\n",
      "|      7 | The Elder Scrolls V Skyrim      | 1.99551 |\n",
      "|      8 | Unturned                        | 1.99549 |\n",
      "|      9 | Counter-Strike                  | 1.99541 |\n",
      "|     10 | Sid Meier's Civilization V      | 1.99537 |\n",
      "|     11 | Terraria                        | 1.99515 |\n",
      "|     12 | Garry's Mod                     | 1.99515 |\n",
      "|     13 | Counter-Strike Source           | 1.99512 |\n",
      "|     14 | Portal                          | 1.99507 |\n",
      "|     15 | Portal 2                        | 1.99501 |\n",
      "|     16 | Half-Life 2                     | 1.99499 |\n",
      "|     17 | Half-Life 2 Deathmatch          | 1.99498 |\n",
      "|     18 | Counter-Strike Condition Zero   | 1.99498 |\n",
      "|     19 | Dota 2                          | 1.99489 |\n",
      "|     20 | Half-Life 2 Lost Coast          | 1.99262 |\n",
      "+--------+---------------------------------+---------+\n"
     ]
    }
   ],
   "source": [
    "#Training Mixture Model\n",
    "mixture_model = MixtureModel(path='dataset', k=3, verbose=False, save_path='saved_models/'+MIXTURE_MODEL_PATH)\n",
    "mixture_model.generate_model(max_iteration=1)\n",
    "results  = mixture_model.predict(187131847)\n",
    "print(tabulate([[ind+1, r[0], r[1]] for ind, r in enumerate(results)], HEADERS, \"psql\"))"
   ]
  },
  {
   "cell_type": "code",
   "execution_count": 5,
   "id": "a8f76673-07a9-4ee1-ac6b-65b64d14cba0",
   "metadata": {},
   "outputs": [
    {
     "name": "stdout",
     "output_type": "stream",
     "text": [
      "('4013',)\n",
      "(None, '4013')\n",
      "(None, None, '4013')\n",
      "+--------+---------------------------------+---------+\n",
      "|   Rank | Game                            |   Score |\n",
      "|--------+---------------------------------+---------|\n",
      "|      1 | The Elder Scrolls V Skyrim      | 353.978 |\n",
      "|      2 | Counter-Strike                  | 353.972 |\n",
      "|      3 | Robocraft                       | 353.969 |\n",
      "|      4 | Left 4 Dead 2                   | 353.967 |\n",
      "|      5 | Counter-Strike Source           | 353.961 |\n",
      "|      6 | Half-Life 2                     | 353.96  |\n",
      "|      7 | Counter-Strike Condition Zero   | 353.959 |\n",
      "|      8 | Portal 2                        | 353.958 |\n",
      "|      9 | Sid Meier's Civilization V      | 353.955 |\n",
      "|     10 | Half-Life 2 Deathmatch          | 353.955 |\n",
      "|     11 | Terraria                        | 353.954 |\n",
      "|     12 | Half-Life 2 Lost Coast          | 353.953 |\n",
      "|     13 | Garry's Mod                     | 353.95  |\n",
      "|     14 | Portal                          | 353.946 |\n",
      "|     15 | Unturned                        | 353.909 |\n",
      "|     16 | Heroes & Generals               | 353.896 |\n",
      "|     17 | Counter-Strike Global Offensive | 353.881 |\n",
      "|     18 | Team Fortress 2                 | 353.875 |\n",
      "|     19 | Warframe                        | 353.865 |\n",
      "|     20 | Dota 2                          | 353.692 |\n",
      "+--------+---------------------------------+---------+\n"
     ]
    }
   ],
   "source": [
    "#Training Mixture Model\n",
    "mixture_model = MixtureModel(path='dataset', k=3, verbose=False, save_path='saved_models/'+MIXTURE_MODEL_PATH)\n",
    "mixture_model.generate_model(max_iteration=10000)\n",
    "results  = mixture_model.predict(187131847)\n",
    "print(tabulate([[ind+1, r[0], r[1]] for ind, r in enumerate(results)], HEADERS, \"psql\"))"
   ]
  },
  {
   "cell_type": "code",
   "execution_count": 6,
   "id": "5b6231de-8cfa-412e-8172-5f0863108bbd",
   "metadata": {},
   "outputs": [
    {
     "name": "stdout",
     "output_type": "stream",
     "text": [
      "('4013',)\n",
      "(None, '4013')\n",
      "(None, None, '4013')\n",
      "+--------+---------------------------------+---------+\n",
      "|   Rank | Game                            |   Score |\n",
      "|--------+---------------------------------+---------|\n",
      "|      1 | The Elder Scrolls V Skyrim      | 353.994 |\n",
      "|      2 | Counter-Strike                  | 353.987 |\n",
      "|      3 | Robocraft                       | 353.984 |\n",
      "|      4 | Left 4 Dead 2                   | 353.982 |\n",
      "|      5 | Counter-Strike Source           | 353.976 |\n",
      "|      6 | Half-Life 2                     | 353.975 |\n",
      "|      7 | Counter-Strike Condition Zero   | 353.974 |\n",
      "|      8 | Portal 2                        | 353.973 |\n",
      "|      9 | Sid Meier's Civilization V      | 353.97  |\n",
      "|     10 | Half-Life 2 Deathmatch          | 353.97  |\n",
      "|     11 | Terraria                        | 353.969 |\n",
      "|     12 | Half-Life 2 Lost Coast          | 353.968 |\n",
      "|     13 | Garry's Mod                     | 353.965 |\n",
      "|     14 | Portal                          | 353.961 |\n",
      "|     15 | Unturned                        | 353.924 |\n",
      "|     16 | Heroes & Generals               | 353.911 |\n",
      "|     17 | Counter-Strike Global Offensive | 353.896 |\n",
      "|     18 | Team Fortress 2                 | 353.89  |\n",
      "|     19 | Warframe                        | 353.88  |\n",
      "|     20 | Dota 2                          | 353.707 |\n",
      "+--------+---------------------------------+---------+\n"
     ]
    }
   ],
   "source": [
    "#Training Mixture Model\n",
    "mixture_model = MixtureModel(path='dataset', k=3, verbose=False, save_path='saved_models/'+MIXTURE_MODEL_PATH)\n",
    "mixture_model.generate_model(max_iteration=20000)\n",
    "results  = mixture_model.predict(187131847)\n",
    "print(tabulate([[ind+1, r[0], r[1]] for ind, r in enumerate(results)], HEADERS, \"psql\"))"
   ]
  },
  {
   "cell_type": "code",
   "execution_count": 7,
   "id": "86c09410-092d-42c4-8777-d50eaf4f4c5b",
   "metadata": {},
   "outputs": [
    {
     "name": "stdout",
     "output_type": "stream",
     "text": [
      "('4013',)\n",
      "(None, '4013')\n",
      "(None, None, '4013')\n",
      "+--------+---------------------------------+---------+\n",
      "|   Rank | Game                            |   Score |\n",
      "|--------+---------------------------------+---------|\n",
      "|      1 | The Elder Scrolls V Skyrim      | 231.551 |\n",
      "|      2 | Counter-Strike                  | 231.544 |\n",
      "|      3 | Robocraft                       | 231.541 |\n",
      "|      4 | Left 4 Dead 2                   | 231.54  |\n",
      "|      5 | Counter-Strike Source           | 231.534 |\n",
      "|      6 | Half-Life 2                     | 231.533 |\n",
      "|      7 | Counter-Strike Condition Zero   | 231.531 |\n",
      "|      8 | Portal 2                        | 231.53  |\n",
      "|      9 | Sid Meier's Civilization V      | 231.528 |\n",
      "|     10 | Half-Life 2 Deathmatch          | 231.528 |\n",
      "|     11 | Terraria                        | 231.527 |\n",
      "|     12 | Half-Life 2 Lost Coast          | 231.525 |\n",
      "|     13 | Garry's Mod                     | 231.522 |\n",
      "|     14 | Portal                          | 231.518 |\n",
      "|     15 | Unturned                        | 231.481 |\n",
      "|     16 | Heroes & Generals               | 231.468 |\n",
      "|     17 | Counter-Strike Global Offensive | 231.453 |\n",
      "|     18 | Team Fortress 2                 | 231.447 |\n",
      "|     19 | Warframe                        | 231.437 |\n",
      "|     20 | Dota 2                          | 231.265 |\n",
      "+--------+---------------------------------+---------+\n"
     ]
    }
   ],
   "source": [
    "#Comparing against a pre-trained model\n",
    "mixture_model = MixtureModel(path='dataset', k=3, verbose=False, save_path='saved-models-paper/mixture-models')\n",
    "results= mixture_model.predict(187131847)\n",
    "print(tabulate([[ind+1, r[0], r[1]] for ind, r in enumerate(results)], HEADERS, \"psql\"))"
   ]
  },
  {
   "cell_type": "code",
   "execution_count": null,
   "id": "4d41cab3-ef3c-42a4-93e7-f7eefb5bc7f6",
   "metadata": {},
   "outputs": [],
   "source": []
  }
 ],
 "metadata": {
  "kernelspec": {
   "display_name": "Python [conda env:responsible-ai-baseenv] *",
   "language": "python",
   "name": "conda-env-responsible-ai-baseenv-py"
  },
  "language_info": {
   "codemirror_mode": {
    "name": "ipython",
    "version": 3
   },
   "file_extension": ".py",
   "mimetype": "text/x-python",
   "name": "python",
   "nbconvert_exporter": "python",
   "pygments_lexer": "ipython3",
   "version": "3.8.17"
  }
 },
 "nbformat": 4,
 "nbformat_minor": 5
}
